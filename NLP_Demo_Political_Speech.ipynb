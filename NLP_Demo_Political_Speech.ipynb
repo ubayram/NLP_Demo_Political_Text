{
  "nbformat": 4,
  "nbformat_minor": 0,
  "metadata": {
    "colab": {
      "name": "NLP_Demo_Political_Speech.ipynb",
      "provenance": [],
      "collapsed_sections": []
    },
    "kernelspec": {
      "name": "python3",
      "display_name": "Python 3"
    }
  },
  "cells": [
    {
      "cell_type": "code",
      "metadata": {
        "id": "4HgCLrMSkAc-",
        "colab_type": "code",
        "colab": {
          "base_uri": "https://localhost:8080/",
          "height": 204
        },
        "outputId": "4c062805-90f4-4c79-dd37-60b69ea6e024"
      },
      "source": [
        "# Author: Ulya Bayram, Ph.D.\n",
        "# ulyabayram@gmail.com\n",
        "# Demo for the APSA2020 invited talk titled \"What NLP and Machine Learning Can Reveal from The Political Texts\"\n",
        "\n",
        "import nltk\n",
        "\n",
        "nltk.download('punkt')\n",
        "nltk.download('stopwords')\n",
        "nltk.download('wordnet')\n",
        "nltk.download('averaged_perceptron_tagger')"
      ],
      "execution_count": 29,
      "outputs": [
        {
          "output_type": "stream",
          "text": [
            "[nltk_data] Downloading package punkt to /root/nltk_data...\n",
            "[nltk_data]   Package punkt is already up-to-date!\n",
            "[nltk_data] Downloading package stopwords to /root/nltk_data...\n",
            "[nltk_data]   Package stopwords is already up-to-date!\n",
            "[nltk_data] Downloading package wordnet to /root/nltk_data...\n",
            "[nltk_data]   Package wordnet is already up-to-date!\n",
            "[nltk_data] Downloading package averaged_perceptron_tagger to\n",
            "[nltk_data]     /root/nltk_data...\n",
            "[nltk_data]   Package averaged_perceptron_tagger is already up-to-\n",
            "[nltk_data]       date!\n"
          ],
          "name": "stdout"
        },
        {
          "output_type": "execute_result",
          "data": {
            "text/plain": [
              "True"
            ]
          },
          "metadata": {
            "tags": []
          },
          "execution_count": 29
        }
      ]
    },
    {
      "cell_type": "code",
      "metadata": {
        "id": "05OgysZikP2x",
        "colab_type": "code",
        "colab": {}
      },
      "source": [
        "# A subsection of the August 19, 2020 speech of the 45th President of the U.S., Donald Trump\n",
        "speech_ = \"We're also using the full power of the federal government to defeat, as you know, the China virus.\\\n",
        " New cases have declined in 80 percent of the jurisdictions in the past week.  Eighty percent.  New Zealand,\\\n",
        " by the way, had a big outbreak.  And other countries that were held up to try and make us look not as good as\\\n",
        " we should look — because we’ve done an incredible job — but they're having a lot of outbreaks, but they'll be\\\n",
        " able to put them out and we put them out.\""
      ],
      "execution_count": 30,
      "outputs": []
    },
    {
      "cell_type": "code",
      "metadata": {
        "id": "bM2nNPb2koD6",
        "colab_type": "code",
        "colab": {
          "base_uri": "https://localhost:8080/",
          "height": 54
        },
        "outputId": "1fa17a49-8d5e-4917-a1a4-3d3537843016"
      },
      "source": [
        "print(speech_)"
      ],
      "execution_count": 31,
      "outputs": [
        {
          "output_type": "stream",
          "text": [
            "We're also using the full power of the federal government to defeat, as you know, the China virus. New cases have declined in 80 percent of the jurisdictions in the past week.  Eighty percent.  New Zealand, by the way, had a big outbreak.  And other countries that were held up to try and make us look not as good as we should look — because we’ve done an incredible job — but they're having a lot of outbreaks, but they'll be able to put them out and we put them out.\n"
          ],
          "name": "stdout"
        }
      ]
    },
    {
      "cell_type": "code",
      "metadata": {
        "id": "Zm8445IUlIrB",
        "colab_type": "code",
        "colab": {
          "base_uri": "https://localhost:8080/",
          "height": 156
        },
        "outputId": "dbcfd170-b086-4b08-97aa-b66ebc036c70"
      },
      "source": [
        "# 1---- Normalization of the text: lowercase conversion, punctuation removal\n",
        "\n",
        "speech_ = speech_.lower() # lowercase conversion\n",
        "\n",
        "print('Lowercase conversion result:')\n",
        "print(speech_)\n",
        "print('\\n\\n')\n",
        "\n",
        "speech_ = speech_.replace(',', '') # manual removal of the punctuations - only comma selected for removal\n",
        "print('Punctuation (only comma) removal result:')\n",
        "print(speech_)"
      ],
      "execution_count": 32,
      "outputs": [
        {
          "output_type": "stream",
          "text": [
            "Lowercase conversion result:\n",
            "we're also using the full power of the federal government to defeat, as you know, the china virus. new cases have declined in 80 percent of the jurisdictions in the past week.  eighty percent.  new zealand, by the way, had a big outbreak.  and other countries that were held up to try and make us look not as good as we should look — because we’ve done an incredible job — but they're having a lot of outbreaks, but they'll be able to put them out and we put them out.\n",
            "\n",
            "\n",
            "\n",
            "Punctuation (only comma) removal result:\n",
            "we're also using the full power of the federal government to defeat as you know the china virus. new cases have declined in 80 percent of the jurisdictions in the past week.  eighty percent.  new zealand by the way had a big outbreak.  and other countries that were held up to try and make us look not as good as we should look — because we’ve done an incredible job — but they're having a lot of outbreaks but they'll be able to put them out and we put them out.\n"
          ],
          "name": "stdout"
        }
      ]
    },
    {
      "cell_type": "code",
      "metadata": {
        "id": "qttYjttLowRD",
        "colab_type": "code",
        "colab": {
          "base_uri": "https://localhost:8080/",
          "height": 54
        },
        "outputId": "57946fba-709c-4dba-cff8-9e53ade82e0a"
      },
      "source": [
        "# 2----- Tokenization of the text: Split by sentences\n",
        "print(nltk.sent_tokenize(speech_))"
      ],
      "execution_count": 33,
      "outputs": [
        {
          "output_type": "stream",
          "text": [
            "[\"we're also using the full power of the federal government to defeat as you know the china virus.\", 'new cases have declined in 80 percent of the jurisdictions in the past week.', 'eighty percent.', 'new zealand by the way had a big outbreak.', \"and other countries that were held up to try and make us look not as good as we should look — because we’ve done an incredible job — but they're having a lot of outbreaks but they'll be able to put them out and we put them out.\"]\n"
          ],
          "name": "stdout"
        }
      ]
    },
    {
      "cell_type": "code",
      "metadata": {
        "id": "_JiH_gYYozrE",
        "colab_type": "code",
        "colab": {
          "base_uri": "https://localhost:8080/",
          "height": 54
        },
        "outputId": "0d60df7c-c8b1-4ba0-c7ec-f1965f4e3b9c"
      },
      "source": [
        "# Tokenization of the text: Split by word boundaries\n",
        "tokens_speech = nltk.word_tokenize(speech_)\n",
        "print(tokens_speech)"
      ],
      "execution_count": 34,
      "outputs": [
        {
          "output_type": "stream",
          "text": [
            "['we', \"'re\", 'also', 'using', 'the', 'full', 'power', 'of', 'the', 'federal', 'government', 'to', 'defeat', 'as', 'you', 'know', 'the', 'china', 'virus', '.', 'new', 'cases', 'have', 'declined', 'in', '80', 'percent', 'of', 'the', 'jurisdictions', 'in', 'the', 'past', 'week', '.', 'eighty', 'percent', '.', 'new', 'zealand', 'by', 'the', 'way', 'had', 'a', 'big', 'outbreak', '.', 'and', 'other', 'countries', 'that', 'were', 'held', 'up', 'to', 'try', 'and', 'make', 'us', 'look', 'not', 'as', 'good', 'as', 'we', 'should', 'look', '—', 'because', 'we', '’', 've', 'done', 'an', 'incredible', 'job', '—', 'but', 'they', \"'re\", 'having', 'a', 'lot', 'of', 'outbreaks', 'but', 'they', \"'ll\", 'be', 'able', 'to', 'put', 'them', 'out', 'and', 'we', 'put', 'them', 'out', '.']\n"
          ],
          "name": "stdout"
        }
      ]
    },
    {
      "cell_type": "code",
      "metadata": {
        "id": "HxnF8Zs1p0ns",
        "colab_type": "code",
        "colab": {
          "base_uri": "https://localhost:8080/",
          "height": 54
        },
        "outputId": "e29d486f-5d0f-4050-a46d-85ac30a0c5a5"
      },
      "source": [
        "# Further remove remaining punctuations by removing words containing non-alphabetical characters in the tokens\n",
        "list_of_words = [current_word for current_word in tokens_speech if current_word.isalpha()]\n",
        "print(list_of_words)"
      ],
      "execution_count": 35,
      "outputs": [
        {
          "output_type": "stream",
          "text": [
            "['we', 'also', 'using', 'the', 'full', 'power', 'of', 'the', 'federal', 'government', 'to', 'defeat', 'as', 'you', 'know', 'the', 'china', 'virus', 'new', 'cases', 'have', 'declined', 'in', 'percent', 'of', 'the', 'jurisdictions', 'in', 'the', 'past', 'week', 'eighty', 'percent', 'new', 'zealand', 'by', 'the', 'way', 'had', 'a', 'big', 'outbreak', 'and', 'other', 'countries', 'that', 'were', 'held', 'up', 'to', 'try', 'and', 'make', 'us', 'look', 'not', 'as', 'good', 'as', 'we', 'should', 'look', 'because', 'we', 've', 'done', 'an', 'incredible', 'job', 'but', 'they', 'having', 'a', 'lot', 'of', 'outbreaks', 'but', 'they', 'be', 'able', 'to', 'put', 'them', 'out', 'and', 'we', 'put', 'them', 'out']\n"
          ],
          "name": "stdout"
        }
      ]
    },
    {
      "cell_type": "code",
      "metadata": {
        "id": "G2f9jFiAqdD5",
        "colab_type": "code",
        "colab": {
          "base_uri": "https://localhost:8080/",
          "height": 122
        },
        "outputId": "e1448eb7-9afc-4c6f-eea3-7048f388eb73"
      },
      "source": [
        "# 3----- Stopword removal\n",
        "\n",
        "# What are stopwords?\n",
        "list_of_stopwords = nltk.corpus.stopwords.words('english')\n",
        "print(list_of_stopwords)\n",
        "print('\\n\\n')\n",
        "\n",
        "# Remove the stopwords from the text\n",
        "list_remaining_words = [current_word for current_word in list_of_words if not current_word in list_of_stopwords]\n",
        "print(list_remaining_words)"
      ],
      "execution_count": 36,
      "outputs": [
        {
          "output_type": "stream",
          "text": [
            "['i', 'me', 'my', 'myself', 'we', 'our', 'ours', 'ourselves', 'you', \"you're\", \"you've\", \"you'll\", \"you'd\", 'your', 'yours', 'yourself', 'yourselves', 'he', 'him', 'his', 'himself', 'she', \"she's\", 'her', 'hers', 'herself', 'it', \"it's\", 'its', 'itself', 'they', 'them', 'their', 'theirs', 'themselves', 'what', 'which', 'who', 'whom', 'this', 'that', \"that'll\", 'these', 'those', 'am', 'is', 'are', 'was', 'were', 'be', 'been', 'being', 'have', 'has', 'had', 'having', 'do', 'does', 'did', 'doing', 'a', 'an', 'the', 'and', 'but', 'if', 'or', 'because', 'as', 'until', 'while', 'of', 'at', 'by', 'for', 'with', 'about', 'against', 'between', 'into', 'through', 'during', 'before', 'after', 'above', 'below', 'to', 'from', 'up', 'down', 'in', 'out', 'on', 'off', 'over', 'under', 'again', 'further', 'then', 'once', 'here', 'there', 'when', 'where', 'why', 'how', 'all', 'any', 'both', 'each', 'few', 'more', 'most', 'other', 'some', 'such', 'no', 'nor', 'not', 'only', 'own', 'same', 'so', 'than', 'too', 'very', 's', 't', 'can', 'will', 'just', 'don', \"don't\", 'should', \"should've\", 'now', 'd', 'll', 'm', 'o', 're', 've', 'y', 'ain', 'aren', \"aren't\", 'couldn', \"couldn't\", 'didn', \"didn't\", 'doesn', \"doesn't\", 'hadn', \"hadn't\", 'hasn', \"hasn't\", 'haven', \"haven't\", 'isn', \"isn't\", 'ma', 'mightn', \"mightn't\", 'mustn', \"mustn't\", 'needn', \"needn't\", 'shan', \"shan't\", 'shouldn', \"shouldn't\", 'wasn', \"wasn't\", 'weren', \"weren't\", 'won', \"won't\", 'wouldn', \"wouldn't\"]\n",
            "\n",
            "\n",
            "\n",
            "['also', 'using', 'full', 'power', 'federal', 'government', 'defeat', 'know', 'china', 'virus', 'new', 'cases', 'declined', 'percent', 'jurisdictions', 'past', 'week', 'eighty', 'percent', 'new', 'zealand', 'way', 'big', 'outbreak', 'countries', 'held', 'try', 'make', 'us', 'look', 'good', 'look', 'done', 'incredible', 'job', 'lot', 'outbreaks', 'able', 'put', 'put']\n"
          ],
          "name": "stdout"
        }
      ]
    },
    {
      "cell_type": "code",
      "metadata": {
        "id": "6C-J7mxMrOna",
        "colab_type": "code",
        "colab": {
          "base_uri": "https://localhost:8080/",
          "height": 54
        },
        "outputId": "81379059-0012-4669-df4a-e0eb03fdee95"
      },
      "source": [
        "# 4----- Lemmatization\n",
        "\n",
        "wnl = nltk.stem.WordNetLemmatizer()\n",
        "\n",
        "list_lemmatized_words = [wnl.lemmatize(current_word) for current_word in list_remaining_words]\n",
        "print(list_lemmatized_words)"
      ],
      "execution_count": 37,
      "outputs": [
        {
          "output_type": "stream",
          "text": [
            "['also', 'using', 'full', 'power', 'federal', 'government', 'defeat', 'know', 'china', 'virus', 'new', 'case', 'declined', 'percent', 'jurisdiction', 'past', 'week', 'eighty', 'percent', 'new', 'zealand', 'way', 'big', 'outbreak', 'country', 'held', 'try', 'make', 'u', 'look', 'good', 'look', 'done', 'incredible', 'job', 'lot', 'outbreak', 'able', 'put', 'put']\n"
          ],
          "name": "stdout"
        }
      ]
    },
    {
      "cell_type": "code",
      "metadata": {
        "id": "tR-pcgG-sbJF",
        "colab_type": "code",
        "colab": {
          "base_uri": "https://localhost:8080/",
          "height": 54
        },
        "outputId": "721f92d2-9fab-41ed-8d8a-3d5cb4ddd87a"
      },
      "source": [
        "# 5----- Stemming\n",
        "\n",
        "wnl = nltk.stem.PorterStemmer()\n",
        "\n",
        "list_stemmed_words = [wnl.stem(current_word) for current_word in list_remaining_words]\n",
        "print(list_stemmed_words)"
      ],
      "execution_count": 38,
      "outputs": [
        {
          "output_type": "stream",
          "text": [
            "['also', 'use', 'full', 'power', 'feder', 'govern', 'defeat', 'know', 'china', 'viru', 'new', 'case', 'declin', 'percent', 'jurisdict', 'past', 'week', 'eighti', 'percent', 'new', 'zealand', 'way', 'big', 'outbreak', 'countri', 'held', 'tri', 'make', 'us', 'look', 'good', 'look', 'done', 'incred', 'job', 'lot', 'outbreak', 'abl', 'put', 'put']\n"
          ],
          "name": "stdout"
        }
      ]
    },
    {
      "cell_type": "code",
      "metadata": {
        "id": "LYV3yhH9ss2h",
        "colab_type": "code",
        "colab": {
          "base_uri": "https://localhost:8080/",
          "height": 54
        },
        "outputId": "70e65618-704b-4688-a74f-bb47695a89e2"
      },
      "source": [
        "# 6----- POS (Part-of-Speech) Tagging\n",
        "\n",
        "print(nltk.pos_tag(list_remaining_words))\n",
        "\n",
        "# https://www.nltk.org/book/ch05.html\n",
        "# Tag\t    Meaning\t                  English Examples\n",
        "# ------------------------------------------------------------------------\n",
        "# ADJ\t    adjective\t                new, good, high, special, big, local\n",
        "# ADP\t    adposition\t              on, of, at, with, by, into, under\n",
        "# ADV\t    adverb\t                  really, already, still, early, now\n",
        "# CONJ\t  conjunction\t              and, or, but, if, while, although\n",
        "# DET\t    determiner, article\t      the, a, some, most, every, no, which\n",
        "# NOUN\t  noun\t                    year, home, costs, time, Africa\n",
        "# NUM\t    numeral\t                  twenty-four, fourth, 1991, 14:24\n",
        "# PRT\t    particle\t                at, on, out, over per, that, up, with\n",
        "# PRON\t  pronoun\t                  he, their, her, its, my, I, us\n",
        "# VERB\t  verb\t                    is, say, told, given, playing, would\n",
        "# .\t      punctuation marks\t         . , ; !\n",
        "# X\t      other\t                    ersatz, esprit, dunno, gr8, univeristy"
      ],
      "execution_count": 39,
      "outputs": [
        {
          "output_type": "stream",
          "text": [
            "[('also', 'RB'), ('using', 'VBG'), ('full', 'JJ'), ('power', 'NN'), ('federal', 'JJ'), ('government', 'NN'), ('defeat', 'NN'), ('know', 'VBP'), ('china', 'VBZ'), ('virus', 'JJ'), ('new', 'JJ'), ('cases', 'NNS'), ('declined', 'VBD'), ('percent', 'JJ'), ('jurisdictions', 'NNS'), ('past', 'IN'), ('week', 'NN'), ('eighty', 'RB'), ('percent', 'JJ'), ('new', 'JJ'), ('zealand', 'NN'), ('way', 'NN'), ('big', 'JJ'), ('outbreak', 'NN'), ('countries', 'NNS'), ('held', 'VBD'), ('try', 'RB'), ('make', 'VB'), ('us', 'PRP'), ('look', 'VB'), ('good', 'JJ'), ('look', 'NN'), ('done', 'VBN'), ('incredible', 'JJ'), ('job', 'NN'), ('lot', 'NN'), ('outbreaks', 'VBZ'), ('able', 'JJ'), ('put', 'NN'), ('put', 'VBD')]\n"
          ],
          "name": "stdout"
        }
      ]
    }
  ]
}