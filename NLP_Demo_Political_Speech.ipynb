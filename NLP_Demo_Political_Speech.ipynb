{
  "nbformat": 4,
  "nbformat_minor": 0,
  "metadata": {
    "colab": {
      "name": "NLP_Demo_Political_Speech.ipynb",
      "provenance": [],
      "collapsed_sections": []
    },
    "kernelspec": {
      "name": "python3",
      "display_name": "Python 3"
    }
  },
  "cells": [
    {
      "cell_type": "code",
      "metadata": {
        "id": "4HgCLrMSkAc-",
        "colab_type": "code",
        "colab": {
          "base_uri": "https://localhost:8080/",
          "height": 187
        },
        "outputId": "62ca28dd-f783-4a0a-feeb-a312b773de4a"
      },
      "source": [
        "# Author: Ulya Bayram, Ph.D.\n",
        "# ulyabayram@gmail.com\n",
        "# Demo for the APSA2020 invited talk titled \"What NLP and Machine Learning Can Reveal from The Political Texts\"\n",
        "\n",
        "import nltk\n",
        "\n",
        "nltk.download('punkt')\n",
        "nltk.download('stopwords')\n",
        "nltk.download('wordnet')\n",
        "nltk.download('averaged_perceptron_tagger')"
      ],
      "execution_count": 27,
      "outputs": [
        {
          "output_type": "stream",
          "text": [
            "[nltk_data] Downloading package punkt to /root/nltk_data...\n",
            "[nltk_data]   Package punkt is already up-to-date!\n",
            "[nltk_data] Downloading package stopwords to /root/nltk_data...\n",
            "[nltk_data]   Package stopwords is already up-to-date!\n",
            "[nltk_data] Downloading package wordnet to /root/nltk_data...\n",
            "[nltk_data]   Package wordnet is already up-to-date!\n",
            "[nltk_data] Downloading package averaged_perceptron_tagger to\n",
            "[nltk_data]     /root/nltk_data...\n",
            "[nltk_data]   Unzipping taggers/averaged_perceptron_tagger.zip.\n"
          ],
          "name": "stdout"
        },
        {
          "output_type": "execute_result",
          "data": {
            "text/plain": [
              "True"
            ]
          },
          "metadata": {
            "tags": []
          },
          "execution_count": 27
        }
      ]
    },
    {
      "cell_type": "code",
      "metadata": {
        "id": "05OgysZikP2x",
        "colab_type": "code",
        "colab": {}
      },
      "source": [
        "# A subsection of the August 19, 2020 speech of the 45th President of the U.S., Donald Trump\n",
        "speech_ = \"We're also using the full power of the federal government to defeat, as you know, the China virus.\\\n",
        " New cases have declined in 80 percent of the jurisdictions in the past week.  Eighty percent.  New Zealand,\\\n",
        " by the way, had a big outbreak.  And other countries that were held up to try and make us look not as good as\\\n",
        " we should look — because we’ve done an incredible job — but they're having a lot of outbreaks, but they'll be\\\n",
        " able to put them out and we put them out.\""
      ],
      "execution_count": 3,
      "outputs": []
    },
    {
      "cell_type": "code",
      "metadata": {
        "id": "bM2nNPb2koD6",
        "colab_type": "code",
        "colab": {
          "base_uri": "https://localhost:8080/",
          "height": 54
        },
        "outputId": "38b4bdb6-7741-4235-a3c3-298df709ef03"
      },
      "source": [
        "print(speech_)"
      ],
      "execution_count": 4,
      "outputs": [
        {
          "output_type": "stream",
          "text": [
            "We're also using the full power of the federal government to defeat, as you know, the China virus. New cases have declined in 80 percent of the jurisdictions in the past week.  Eighty percent.  New Zealand, by the way, had a big outbreak.  And other countries that were held up to try and make us look not as good as we should look — because we’ve done an incredible job — but they're having a lot of outbreaks, but they'll be able to put them out and we put them out.\n"
          ],
          "name": "stdout"
        }
      ]
    },
    {
      "cell_type": "code",
      "metadata": {
        "id": "Zm8445IUlIrB",
        "colab_type": "code",
        "colab": {
          "base_uri": "https://localhost:8080/",
          "height": 275
        },
        "outputId": "31bb08ee-daf3-4730-ab5c-a0150c959cef"
      },
      "source": [
        "# 1---- Normalization of the text: lowercase conversion, punctuation removal\n",
        "\n",
        "speech_ = speech_.lower() # lowercase conversion\n",
        "\n",
        "print('Lowercase conversion result:')\n",
        "print(speech_)\n",
        "print('\n\n')\n",
        "\n",
        "speech_ = speech_.replace(',', '') # manual removal of the punctuations - only comma selected for removal\n",
        "print('Punctuation (only comma) removal result:')\n",
        "print(speech_)"
      ],
      "execution_count": 13,
      "outputs": [
        {
          "output_type": "stream",
          "text": [
            "['-', '-', '-', '-', '-', '-', '-', '-', '-', '-']\n",
            "Lowercase conversion result:\n",
            "we're also using the full power of the federal government to defeat, as you know, the china virus. new cases have declined in 80 percent of the jurisdictions in the past week.  eighty percent.  new zealand, by the way, had a big outbreak.  and other countries that were held up to try and make us look not as good as we should look — because we’ve done an incredible job — but they're having a lot of outbreaks, but they'll be able to put them out and we put them out.\n",
            "\n",
            "\n",
            "[\"we're also using the full power of the federal government to defeat, as you know, the china virus.\", 'new cases have declined in 80 percent of the jurisdictions in the past week.', 'eighty percent.', 'new zealand, by the way, had a big outbreak.', \"and other countries that were held up to try and make us look not as good as we should look — because we’ve done an incredible job — but they're having a lot of outbreaks, but they'll be able to put them out and we put them out.\"]\n",
            "Punctuation removal result with method-1 manual selection of what to remove or change:\n",
            "we re also using the full power of the federal government to defeat as you know the china virus new cases have declined in 80 percent of the jurisdictions in the past week  eighty percent  new zealand by the way had a big outbreak  and other countries that were held up to try and make us look not as good as we should look — because we’ve done an incredible job — but they re having a lot of outbreaks but they ll be able to put them out and we put them out\n",
            "\n",
            "\n",
            "Punctuation removal result:\n",
            "we re also using the full power of the federal government to defeat as you know the china virus new cases have declined in 80 percent of the jurisdictions in the past week  eighty percent  new zealand by the way had a big outbreak  and other countries that were held up to try and make us look not as good as we should look — because we’ve done an incredible job — but they re having a lot of outbreaks but they ll be able to put them out and we put them out\n",
            "\n",
            "\n"
          ],
          "name": "stdout"
        }
      ]
    },
    {
      "cell_type": "code",
      "metadata": {
        "id": "qttYjttLowRD",
        "colab_type": "code",
        "colab": {}
      },
      "source": [
        "# 2----- Tokenization of the text: Split by sentences\n",
        "print(nltk.sent_tokenize(speech_))"
      ],
      "execution_count": null,
      "outputs": []
    },
    {
      "cell_type": "code",
      "metadata": {
        "id": "_JiH_gYYozrE",
        "colab_type": "code",
        "colab": {
          "base_uri": "https://localhost:8080/",
          "height": 54
        },
        "outputId": "731cb0a1-b171-4cbd-8cad-b11577efee42"
      },
      "source": [
        "# Tokenization of the text: Split by word boundaries\n",
        "tokens_speech = nltk.word_tokenize(speech_)\n",
        "print(tokens_speech)"
      ],
      "execution_count": 14,
      "outputs": [
        {
          "output_type": "stream",
          "text": [
            "['we', \"'re\", 'also', 'using', 'the', 'full', 'power', 'of', 'the', 'federal', 'government', 'to', 'defeat', ',', 'as', 'you', 'know', ',', 'the', 'china', 'virus', '.', 'new', 'cases', 'have', 'declined', 'in', '80', 'percent', 'of', 'the', 'jurisdictions', 'in', 'the', 'past', 'week', '.', 'eighty', 'percent', '.', 'new', 'zealand', ',', 'by', 'the', 'way', ',', 'had', 'a', 'big', 'outbreak', '.', 'and', 'other', 'countries', 'that', 'were', 'held', 'up', 'to', 'try', 'and', 'make', 'us', 'look', 'not', 'as', 'good', 'as', 'we', 'should', 'look', '—', 'because', 'we', '’', 've', 'done', 'an', 'incredible', 'job', '—', 'but', 'they', \"'re\", 'having', 'a', 'lot', 'of', 'outbreaks', ',', 'but', 'they', \"'ll\", 'be', 'able', 'to', 'put', 'them', 'out', 'and', 'we', 'put', 'them', 'out', '.']\n"
          ],
          "name": "stdout"
        }
      ]
    },
    {
      "cell_type": "code",
      "metadata": {
        "id": "HxnF8Zs1p0ns",
        "colab_type": "code",
        "colab": {
          "base_uri": "https://localhost:8080/",
          "height": 54
        },
        "outputId": "ee421357-dc4e-410c-e443-649496a3afa0"
      },
      "source": [
        "# Further remove remaining punctuations by removing words containing non-alphabetical characters in the tokens\n",
        "list_of_words = [current_word for current_word in tokens_speech if current_word.isalpha()]\n",
        "print(list_of_words)"
      ],
      "execution_count": 16,
      "outputs": [
        {
          "output_type": "stream",
          "text": [
            "['we', 'also', 'using', 'the', 'full', 'power', 'of', 'the', 'federal', 'government', 'to', 'defeat', 'as', 'you', 'know', 'the', 'china', 'virus', 'new', 'cases', 'have', 'declined', 'in', 'percent', 'of', 'the', 'jurisdictions', 'in', 'the', 'past', 'week', 'eighty', 'percent', 'new', 'zealand', 'by', 'the', 'way', 'had', 'a', 'big', 'outbreak', 'and', 'other', 'countries', 'that', 'were', 'held', 'up', 'to', 'try', 'and', 'make', 'us', 'look', 'not', 'as', 'good', 'as', 'we', 'should', 'look', 'because', 'we', 've', 'done', 'an', 'incredible', 'job', 'but', 'they', 'having', 'a', 'lot', 'of', 'outbreaks', 'but', 'they', 'be', 'able', 'to', 'put', 'them', 'out', 'and', 'we', 'put', 'them', 'out']\n"
          ],
          "name": "stdout"
        }
      ]
    },
    {
      "cell_type": "code",
      "metadata": {
        "id": "G2f9jFiAqdD5",
        "colab_type": "code",
        "colab": {
          "base_uri": "https://localhost:8080/",
          "height": 71
        },
        "outputId": "c748ac6b-fbf7-4c39-db57-92749705c8f4"
      },
      "source": [
        "# 3----- Stopword removal\n",
        "\n",
        "# What are stopwords?\n",
        "list_of_stopwords = nltk.corpus.stopwords.words('english')\n",
        "print(list_of_stopwords)\n",
        "print('\n\n')\n",
        "\n",
        "# Remove the stopwords from the text\n",
        "list_remaining_words = [current_word for current_word in list_of_words if not current_word in list_of_stopwords]\n",
        "print(list_remaining_words)"
      ],
      "execution_count": 20,
      "outputs": [
        {
          "output_type": "stream",
          "text": [
            "['i', 'me', 'my', 'myself', 'we', 'our', 'ours', 'ourselves', 'you', \"you're\", \"you've\", \"you'll\", \"you'd\", 'your', 'yours', 'yourself', 'yourselves', 'he', 'him', 'his', 'himself', 'she', \"she's\", 'her', 'hers', 'herself', 'it', \"it's\", 'its', 'itself', 'they', 'them', 'their', 'theirs', 'themselves', 'what', 'which', 'who', 'whom', 'this', 'that', \"that'll\", 'these', 'those', 'am', 'is', 'are', 'was', 'were', 'be', 'been', 'being', 'have', 'has', 'had', 'having', 'do', 'does', 'did', 'doing', 'a', 'an', 'the', 'and', 'but', 'if', 'or', 'because', 'as', 'until', 'while', 'of', 'at', 'by', 'for', 'with', 'about', 'against', 'between', 'into', 'through', 'during', 'before', 'after', 'above', 'below', 'to', 'from', 'up', 'down', 'in', 'out', 'on', 'off', 'over', 'under', 'again', 'further', 'then', 'once', 'here', 'there', 'when', 'where', 'why', 'how', 'all', 'any', 'both', 'each', 'few', 'more', 'most', 'other', 'some', 'such', 'no', 'nor', 'not', 'only', 'own', 'same', 'so', 'than', 'too', 'very', 's', 't', 'can', 'will', 'just', 'don', \"don't\", 'should', \"should've\", 'now', 'd', 'll', 'm', 'o', 're', 've', 'y', 'ain', 'aren', \"aren't\", 'couldn', \"couldn't\", 'didn', \"didn't\", 'doesn', \"doesn't\", 'hadn', \"hadn't\", 'hasn', \"hasn't\", 'haven', \"haven't\", 'isn', \"isn't\", 'ma', 'mightn', \"mightn't\", 'mustn', \"mustn't\", 'needn', \"needn't\", 'shan', \"shan't\", 'shouldn', \"shouldn't\", 'wasn', \"wasn't\", 'weren', \"weren't\", 'won', \"won't\", 'wouldn', \"wouldn't\"]\n",
            "['also', 'using', 'full', 'power', 'federal', 'government', 'defeat', 'know', 'china', 'virus', 'new', 'cases', 'declined', 'percent', 'jurisdictions', 'past', 'week', 'eighty', 'percent', 'new', 'zealand', 'way', 'big', 'outbreak', 'countries', 'held', 'try', 'make', 'us', 'look', 'good', 'look', 'done', 'incredible', 'job', 'lot', 'outbreaks', 'able', 'put', 'put']\n"
          ],
          "name": "stdout"
        }
      ]
    },
    {
      "cell_type": "code",
      "metadata": {
        "id": "6C-J7mxMrOna",
        "colab_type": "code",
        "colab": {
          "base_uri": "https://localhost:8080/",
          "height": 54
        },
        "outputId": "8f39a444-a986-456d-dafe-251a7e4e2359"
      },
      "source": [
        "# 4----- Lemmatization\n",
        "\n",
        "wnl = nltk.stem.WordNetLemmatizer()\n",
        "\n",
        "list_lemmatized_words = [wnl.lemmatize(current_word) for current_word in list_remaining_words]\n",
        "print(list_lemmatized_words)"
      ],
      "execution_count": 24,
      "outputs": [
        {
          "output_type": "stream",
          "text": [
            "['also', 'using', 'full', 'power', 'federal', 'government', 'defeat', 'know', 'china', 'virus', 'new', 'case', 'declined', 'percent', 'jurisdiction', 'past', 'week', 'eighty', 'percent', 'new', 'zealand', 'way', 'big', 'outbreak', 'country', 'held', 'try', 'make', 'u', 'look', 'good', 'look', 'done', 'incredible', 'job', 'lot', 'outbreak', 'able', 'put', 'put']\n"
          ],
          "name": "stdout"
        }
      ]
    },
    {
      "cell_type": "code",
      "metadata": {
        "id": "tR-pcgG-sbJF",
        "colab_type": "code",
        "colab": {
          "base_uri": "https://localhost:8080/",
          "height": 54
        },
        "outputId": "4ce16f94-9ed6-457c-d34b-7583bf1ba7f8"
      },
      "source": [
        "# 5----- Stemming\n",
        "\n",
        "wnl = nltk.stem.PorterStemmer()\n",
        "\n",
        "list_stemmed_words = [wnl.stem(current_word) for current_word in list_remaining_words]\n",
        "print(list_stemmed_words)"
      ],
      "execution_count": 25,
      "outputs": [
        {
          "output_type": "stream",
          "text": [
            "['also', 'use', 'full', 'power', 'feder', 'govern', 'defeat', 'know', 'china', 'viru', 'new', 'case', 'declin', 'percent', 'jurisdict', 'past', 'week', 'eighti', 'percent', 'new', 'zealand', 'way', 'big', 'outbreak', 'countri', 'held', 'tri', 'make', 'us', 'look', 'good', 'look', 'done', 'incred', 'job', 'lot', 'outbreak', 'abl', 'put', 'put']\n"
          ],
          "name": "stdout"
        }
      ]
    },
    {
      "cell_type": "code",
      "metadata": {
        "id": "LYV3yhH9ss2h",
        "colab_type": "code",
        "colab": {
          "base_uri": "https://localhost:8080/",
          "height": 54
        },
        "outputId": "f6bf58b6-0401-451b-8b01-9ed5205d88db"
      },
      "source": [
        "# 6----- POS (Part-of-Speech) Tagging\n",
        "\n",
        "print(nltk.pos_tag(list_remaining_words))\n",
        "\n",
        "# https://www.nltk.org/book/ch05.html\n",
        "# Tag\t    Meaning\t                  English Examples\n",
        "# ------------------------------------------------------------------------\n",
        "# ADJ\t    adjective\t                new, good, high, special, big, local\n",
        "# ADP\t    adposition\t              on, of, at, with, by, into, under\n",
        "# ADV\t    adverb\t                  really, already, still, early, now\n",
        "# CONJ\t  conjunction\t              and, or, but, if, while, although\n",
        "# DET\t    determiner, article\t      the, a, some, most, every, no, which\n",
        "# NOUN\t  noun\t                    year, home, costs, time, Africa\n",
        "# NUM\t    numeral\t                  twenty-four, fourth, 1991, 14:24\n",
        "# PRT\t    particle\t                at, on, out, over per, that, up, with\n",
        "# PRON\t  pronoun\t                  he, their, her, its, my, I, us\n",
        "# VERB\t  verb\t                    is, say, told, given, playing, would\n",
        "# .\t      punctuation marks\t         . , ; !\n",
        "# X\t      other\t                    ersatz, esprit, dunno, gr8, univeristy"
      ],
      "execution_count": 28,
      "outputs": [
        {
          "output_type": "stream",
          "text": [
            "[('also', 'RB'), ('using', 'VBG'), ('full', 'JJ'), ('power', 'NN'), ('federal', 'JJ'), ('government', 'NN'), ('defeat', 'NN'), ('know', 'VBP'), ('china', 'VBZ'), ('virus', 'JJ'), ('new', 'JJ'), ('cases', 'NNS'), ('declined', 'VBD'), ('percent', 'JJ'), ('jurisdictions', 'NNS'), ('past', 'IN'), ('week', 'NN'), ('eighty', 'RB'), ('percent', 'JJ'), ('new', 'JJ'), ('zealand', 'NN'), ('way', 'NN'), ('big', 'JJ'), ('outbreak', 'NN'), ('countries', 'NNS'), ('held', 'VBD'), ('try', 'RB'), ('make', 'VB'), ('us', 'PRP'), ('look', 'VB'), ('good', 'JJ'), ('look', 'NN'), ('done', 'VBN'), ('incredible', 'JJ'), ('job', 'NN'), ('lot', 'NN'), ('outbreaks', 'VBZ'), ('able', 'JJ'), ('put', 'NN'), ('put', 'VBD')]\n"
          ],
          "name": "stdout"
        }
      ]
    }
  ]
}
